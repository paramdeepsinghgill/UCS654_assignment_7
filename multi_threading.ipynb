{
  "cells": [
    {
      "cell_type": "markdown",
      "metadata": {
        "id": "view-in-github",
        "colab_type": "text"
      },
      "source": [
        "<a href=\"https://colab.research.google.com/github/kkamal2003/Multi-Threading/blob/main/multi_threading.ipynb\" target=\"_parent\"><img src=\"https://colab.research.google.com/assets/colab-badge.svg\" alt=\"Open In Colab\"/></a>"
      ]
    },
    {
      "cell_type": "code",
      "execution_count": null,
      "metadata": {
        "_cell_guid": "b1076dfc-b9ad-4769-8c92-a6c4dae69d19",
        "_uuid": "8f2839f25d086af736a60e9eeb907d3b93b6e0e5",
        "execution": {
          "iopub.execute_input": "2024-04-16T08:41:53.311368Z",
          "iopub.status.busy": "2024-04-16T08:41:53.310912Z",
          "iopub.status.idle": "2024-04-16T08:41:53.316735Z",
          "shell.execute_reply": "2024-04-16T08:41:53.315233Z",
          "shell.execute_reply.started": "2024-04-16T08:41:53.311337Z"
        },
        "trusted": true,
        "id": "62ZrdvyBSg20"
      },
      "outputs": [],
      "source": [
        "import pandas as pd\n",
        "import numpy as np\n",
        "import random as r"
      ]
    },
    {
      "cell_type": "code",
      "execution_count": null,
      "metadata": {
        "execution": {
          "iopub.execute_input": "2024-04-16T08:41:23.520959Z",
          "iopub.status.busy": "2024-04-16T08:41:23.519939Z",
          "iopub.status.idle": "2024-04-16T08:41:23.527513Z",
          "shell.execute_reply": "2024-04-16T08:41:23.526140Z",
          "shell.execute_reply.started": "2024-04-16T08:41:23.520921Z"
        },
        "trusted": true,
        "id": "wp_ECwM6Sg23",
        "outputId": "5b0b417f-c5e1-4d08-f62f-31031eefbc06"
      },
      "outputs": [
        {
          "name": "stdout",
          "output_type": "stream",
          "text": [
            "OS Type:  nt\n"
          ]
        }
      ],
      "source": [
        "import os\n",
        "import time\n",
        "print (\"OS Type: \", os.name)"
      ]
    },
    {
      "cell_type": "code",
      "execution_count": null,
      "metadata": {
        "execution": {
          "iopub.execute_input": "2024-04-16T08:40:17.291428Z",
          "iopub.status.busy": "2024-04-16T08:40:17.290781Z",
          "iopub.status.idle": "2024-04-16T08:40:17.296569Z",
          "shell.execute_reply": "2024-04-16T08:40:17.295441Z",
          "shell.execute_reply.started": "2024-04-16T08:40:17.291394Z"
        },
        "trusted": true,
        "id": "jbOgtw0xSg24",
        "outputId": "1be6ab84-ae4b-4f24-d77c-b3062581fb23"
      },
      "outputs": [
        {
          "name": "stdout",
          "output_type": "stream",
          "text": [
            "OS Name:  win32\n"
          ]
        }
      ],
      "source": [
        "import sys\n",
        "print (\"OS Name: \", sys.platform)"
      ]
    },
    {
      "cell_type": "code",
      "execution_count": null,
      "metadata": {
        "execution": {
          "iopub.execute_input": "2024-04-16T08:40:32.359903Z",
          "iopub.status.busy": "2024-04-16T08:40:32.359443Z",
          "iopub.status.idle": "2024-04-16T08:40:32.365987Z",
          "shell.execute_reply": "2024-04-16T08:40:32.364770Z",
          "shell.execute_reply.started": "2024-04-16T08:40:32.359870Z"
        },
        "trusted": true,
        "id": "VHwkoTuLSg25",
        "outputId": "eba7e963-8d57-4d19-adf2-7a42f624ccff"
      },
      "outputs": [
        {
          "name": "stdout",
          "output_type": "stream",
          "text": [
            "OS Platform:  Windows-10-10.0.22631-SP0\n"
          ]
        }
      ],
      "source": [
        "import platform\n",
        "print (\"OS Platform: \", platform.platform())"
      ]
    },
    {
      "cell_type": "code",
      "execution_count": null,
      "metadata": {
        "execution": {
          "iopub.execute_input": "2024-04-16T08:40:45.890891Z",
          "iopub.status.busy": "2024-04-16T08:40:45.889517Z",
          "iopub.status.idle": "2024-04-16T08:40:45.901274Z",
          "shell.execute_reply": "2024-04-16T08:40:45.899490Z",
          "shell.execute_reply.started": "2024-04-16T08:40:45.890821Z"
        },
        "trusted": true,
        "id": "wiTKTP13Sg26",
        "outputId": "3ccab7f8-f333-4c23-9159-9a402e86a676"
      },
      "outputs": [
        {
          "name": "stdout",
          "output_type": "stream",
          "text": [
            "Num of cores are:  8\n"
          ]
        }
      ],
      "source": [
        "import multiprocessing\n",
        "\n",
        "numberOfCores = multiprocessing.cpu_count()\n",
        "print (\"Num of cores are: \", numberOfCores)"
      ]
    },
    {
      "cell_type": "code",
      "execution_count": null,
      "metadata": {
        "execution": {
          "iopub.execute_input": "2024-04-16T08:41:04.246552Z",
          "iopub.status.busy": "2024-04-16T08:41:04.244677Z",
          "iopub.status.idle": "2024-04-16T08:41:04.254167Z",
          "shell.execute_reply": "2024-04-16T08:41:04.252959Z",
          "shell.execute_reply.started": "2024-04-16T08:41:04.246506Z"
        },
        "trusted": true,
        "id": "cmMa8PpESg27",
        "outputId": "5071f591-af4b-4ccf-9f62-233840121ca8"
      },
      "outputs": [
        {
          "name": "stdout",
          "output_type": "stream",
          "text": [
            "Num of threads:  6\n"
          ]
        }
      ],
      "source": [
        "import threading\n",
        "\n",
        "activeThread = threading.active_count()\n",
        "print (\"Num of threads: \",activeThread)"
      ]
    },
    {
      "cell_type": "code",
      "execution_count": null,
      "metadata": {
        "execution": {
          "iopub.execute_input": "2024-04-16T08:43:28.794057Z",
          "iopub.status.busy": "2024-04-16T08:43:28.793584Z"
        },
        "trusted": true,
        "id": "-PCG_nP2Sg27"
      },
      "outputs": [],
      "source": [
        "import numpy as np\n",
        "import concurrent.futures\n",
        "import time\n",
        "\n",
        "def matrix_multiplication(matrix):\n",
        "    return np.dot(matrix, constant_matrix)\n",
        "\n",
        "# Define the size of the matrices\n",
        "matrix_size = (1000,1000)\n",
        "num_matrices = 100\n",
        "\n",
        "# Generate constant matrix\n",
        "constant_matrix = np.random.rand(*matrix_size)\n",
        "\n",
        "# Generate random matrices\n",
        "random_matrices = [np.random.rand(*matrix_size) for _ in range(num_matrices)]\n",
        "\n",
        "# Define the number of threads to test\n",
        "num_threads_list = [i for i in range(1,2*numberOfCores)]\n",
        "\n",
        "# Perform matrix multiplication with different number of threads\n",
        "results = {}\n",
        "for num_threads in num_threads_list:\n",
        "    start_time = time.time()\n",
        "    with concurrent.futures.ThreadPoolExecutor(max_workers=num_threads) as executor:\n",
        "        multiplied_matrices = list(executor.map(matrix_multiplication, random_matrices))\n",
        "    end_time = time.time()\n",
        "    results[num_threads] = end_time - start_time\n",
        "\n"
      ]
    },
    {
      "cell_type": "code",
      "execution_count": null,
      "metadata": {
        "id": "-B2oMSNaSg28",
        "outputId": "485d5e88-42b7-431e-f6f3-4b555c26c978"
      },
      "outputs": [
        {
          "name": "stdout",
          "output_type": "stream",
          "text": [
            "\u001b[95mNumber of Threads\t\u001b[94mTime Taken (seconds)\u001b[0m\n",
            "\u001b[92m1\t\t\t\u001b[93m45.05998420715332\u001b[0m\n",
            "\u001b[92m2\t\t\t\u001b[93m37.75725960731506\u001b[0m\n",
            "\u001b[92m3\t\t\t\u001b[93m28.110235929489136\u001b[0m\n",
            "\u001b[92m4\t\t\t\u001b[93m17.161413431167603\u001b[0m\n",
            "\u001b[92m5\t\t\t\u001b[93m12.803863525390625\u001b[0m\n",
            "\u001b[92m6\t\t\t\u001b[93m19.879459619522095\u001b[0m\n",
            "\u001b[92m7\t\t\t\u001b[93m12.748494148254395\u001b[0m\n",
            "\u001b[92m8\t\t\t\u001b[93m9.225353240966797\u001b[0m\n",
            "\u001b[92m9\t\t\t\u001b[93m17.43009114265442\u001b[0m\n",
            "\u001b[92m10\t\t\t\u001b[93m13.314755201339722\u001b[0m\n",
            "\u001b[92m11\t\t\t\u001b[93m11.57577109336853\u001b[0m\n",
            "\u001b[92m12\t\t\t\u001b[93m10.413656949996948\u001b[0m\n",
            "\u001b[92m13\t\t\t\u001b[93m9.617114782333374\u001b[0m\n",
            "\u001b[92m14\t\t\t\u001b[93m12.391650915145874\u001b[0m\n",
            "\u001b[92m15\t\t\t\u001b[93m10.980229139328003\u001b[0m\n"
          ]
        }
      ],
      "source": [
        "# Define colors for better visualization\n",
        "class colors:\n",
        "    HEADER = '\\033[95m'\n",
        "    BLUE = '\\033[94m'\n",
        "    GREEN = '\\033[92m'\n",
        "    WARNING = '\\033[93m'\n",
        "    FAIL = '\\033[91m'\n",
        "    ENDC = '\\033[0m'\n",
        "\n",
        "print(f\"{colors.HEADER}Number of Threads\\t{colors.BLUE}Time Taken (seconds){colors.ENDC}\")\n",
        "for num_threads, time_taken in results.items():\n",
        "    print(f\"{colors.GREEN}{num_threads}\\t\\t\\t{colors.WARNING}{time_taken}{colors.ENDC}\")\n"
      ]
    },
    {
      "cell_type": "code",
      "execution_count": null,
      "metadata": {
        "trusted": true,
        "id": "lfXP4KOHSg29",
        "outputId": "c66ffc78-bb35-4369-a6af-1965361ff71c"
      },
      "outputs": [
        {
          "data": {
            "image/png": "[encoded data removed]",
            "text/plain": [
              "<Figure size 640x480 with 1 Axes>"
            ]
          },
          "metadata": {},
          "output_type": "display_data"
        }
      ],
      "source": [
        "import matplotlib.pyplot as plt\n",
        "num_threads_list = list(results.keys())\n",
        "time_taken_list = list(results.values())\n",
        "plt.plot(num_threads_list, time_taken_list, color='blue')\n",
        "plt.xlabel('Number of Threads')\n",
        "plt.ylabel('Time Taken (seconds)')\n",
        "plt.title('Matrix Multiplication Time vs. Number of Threads')\n",
        "plt.xticks(num_threads_list)\n",
        "plt.show()\n"
      ]
    },
    {
      "cell_type": "code",
      "execution_count": null,
      "metadata": {
        "id": "VbCGnwKASg29"
      },
      "outputs": [],
      "source": []
    }
  ],
  "metadata": {
    "kaggle": {
      "accelerator": "none",
      "dataSources": [],
      "dockerImageVersionId": 30684,
      "isGpuEnabled": false,
      "isInternetEnabled": true,
      "language": "python",
      "sourceType": "notebook"
    },
    "kernelspec": {
      "display_name": "Python 3",
      "language": "python",
      "name": "python3"
    },
    "language_info": {
      "codemirror_mode": {
        "name": "ipython",
        "version": 3
      },
      "file_extension": ".py",
      "mimetype": "text/x-python",
      "name": "python",
      "nbconvert_exporter": "python",
      "pygments_lexer": "ipython3",
      "version": "3.9.13"
    },
    "colab": {
      "provenance": [],
      "include_colab_link": true
    }
  },
  "nbformat": 4,
  "nbformat_minor": 0
}